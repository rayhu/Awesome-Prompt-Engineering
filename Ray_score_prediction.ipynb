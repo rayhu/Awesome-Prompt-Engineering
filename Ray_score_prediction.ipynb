{
  "cells": [
    {
      "cell_type": "markdown",
      "metadata": {
        "id": "view-in-github",
        "colab_type": "text"
      },
      "source": [
        "<a href=\"https://colab.research.google.com/github/rayhu/Awesome-Prompt-Engineering/blob/main/Ray_score_prediction.ipynb\" target=\"_parent\"><img src=\"https://colab.research.google.com/assets/colab-badge.svg\" alt=\"Open In Colab\"/></a>"
      ]
    },
    {
      "cell_type": "markdown",
      "metadata": {
        "id": "Wt8Qnx_zr5F3"
      },
      "source": [
        "### Extracting the individual clauses and labels"
      ]
    },
    {
      "cell_type": "code",
      "source": [
        "!pip install transformers\n",
        "!pip install datasets\n",
        "!pip install torch\n",
        "!pip install 'accelerate>=0.26.0'"
      ],
      "metadata": {
        "id": "St9-VKtftjEC"
      },
      "execution_count": null,
      "outputs": []
    },
    {
      "cell_type": "code",
      "execution_count": null,
      "metadata": {
        "id": "RQlQoFqGr5F4"
      },
      "outputs": [],
      "source": [
        "import os\n",
        "import json\n",
        "\n",
        "import pandas as pd\n",
        "import numpy as np\n",
        "from sklearn.model_selection import train_test_split\n",
        "from transformers import AutoTokenizer, AutoModelForSequenceClassification, TrainingArguments, Trainer\n",
        "import torch\n",
        "from datasets import Dataset\n",
        "\n"
      ]
    },
    {
      "cell_type": "code",
      "execution_count": null,
      "metadata": {
        "id": "-sChezver5F5"
      },
      "outputs": [],
      "source": [
        "# Data Loading Function\n",
        "def load_clauses_data(data_dir):\n",
        "    \"\"\"\n",
        "    Load clauses data from the specified directory\n",
        "    Parameters:\n",
        "        data_dir (str): Path to the directory containing service folders\n",
        "    Returns:\n",
        "        list: List of dictionaries containing clause data\n",
        "    \"\"\"\n",
        "    all_clauses = []\n",
        "\n",
        "    for service_folder in os.listdir(data_dir):\n",
        "        service_path = os.path.join(data_dir, service_folder)\n",
        "\n",
        "        if not os.path.isdir(service_path):\n",
        "            continue\n",
        "\n",
        "        clauses_file = os.path.join(service_path, 'clauses.json')\n",
        "        if not os.path.exists(clauses_file):\n",
        "            continue\n",
        "\n",
        "        try:\n",
        "            with open(clauses_file, 'r', encoding='utf-8') as f:\n",
        "                data = json.load(f)\n",
        "\n",
        "            if 'clauses' not in data or not data['clauses']:\n",
        "                print(f\"⚠️ WARNING: 'clauses' list is empty in '{service_folder}/clauses.json'\")\n",
        "                continue\n",
        "\n",
        "            for clause in data['clauses']:\n",
        "                if not all(key in clause for key in ['clause_text', 'description', 'rating']):\n",
        "                    print(f\"⚠️ WARNING: Skipping a clause in '{service_folder}' due to missing required fields\")\n",
        "                    continue\n",
        "\n",
        "                clause_data = {\n",
        "                    'service': service_folder,\n",
        "                    'clause_text': clause['clause_text'],\n",
        "                    'description': clause['description'],\n",
        "                    'rating': clause['rating']\n",
        "                }\n",
        "                all_clauses.append(clause_data)\n",
        "\n",
        "        except Exception as e:\n",
        "            print(f\"Error processing {service_folder}: {str(e)}\")\n",
        "\n",
        "    return all_clauses"
      ]
    },
    {
      "cell_type": "code",
      "execution_count": null,
      "metadata": {
        "id": "qIeUhfMQr5F6"
      },
      "outputs": [],
      "source": [
        "rating_map = {\n",
        "    'good': 0,\n",
        "    'neutral': 1,\n",
        "    'bad': 2,\n",
        "    'blocker': 3,\n",
        "}"
      ]
    },
    {
      "cell_type": "code",
      "source": [
        "DATA_DIR = \"CS224-TC/data_all_202503120623106\"\n",
        "if not os.path.exists(DATA_DIR):\n",
        "    print(f\"Directory '{DATA_DIR}' not found. Cloning repository...\")\n",
        "    # Remove existing directory if it exists\n",
        "    !rm -rf CS224-TC\n",
        "    # Clone the repository\n",
        "    !git clone --depth 1 --filter=blob:none https://github.com/AI-knows-your-rights/CS224-TC.git\n",
        "else:\n",
        "    print(f\"Directory '{DATA_DIR}' already exists. Skipping cloning.\")\n",
        "\n",
        "# !git clone --depth 1 --filter=blob:none --no-checkout https://github.com/AI-knows-your-rights/CS224-TC.git\n",
        "# Enable sparse-checkout\n",
        "#!git sparse-checkout init --cone\n",
        "# Specify the folder you want to checkout (e.g., \"your_folder\")\n",
        "#!git sparse-checkout set data_all_202503120623106\n"
      ],
      "metadata": {
        "id": "UP2a9I13x_nH"
      },
      "execution_count": null,
      "outputs": []
    },
    {
      "cell_type": "code",
      "execution_count": null,
      "metadata": {
        "id": "Inyb2HQ0r5F6"
      },
      "outputs": [],
      "source": [
        "# Load and prepare the dataset\n",
        "clauses_data = load_clauses_data(DATA_DIR)\n",
        "df = pd.DataFrame(clauses_data)\n",
        "\n",
        "# Convert ratings to numerical values\n",
        "df['rating'] = df['rating'].map(rating_map)\n",
        "print(\"\\nRating distribution after conversion:\")\n",
        "print(df['rating'].value_counts().sort_index())\n",
        "\n",
        "# Split into training and testing sets\n",
        "\n",
        "training_size = round(df.shape[0] * 0.8)\n",
        "\n",
        "train_df, test_df = train_test_split(df, train_size=training_size, random_state=42)\n",
        "\n",
        "print(f\"Training set size: {len(train_df)}\")\n",
        "print(f\"Testing set size: {len(test_df)}\")\n",
        "print(\"\\nRating distribution in training set:\")\n",
        "print(train_df['rating'].value_counts().sort_index())"
      ]
    },
    {
      "cell_type": "markdown",
      "metadata": {
        "id": "hHy4Pa2yr5F7"
      },
      "source": [
        "### BERT"
      ]
    },
    {
      "cell_type": "code",
      "execution_count": null,
      "metadata": {
        "id": "KL2rLZIVr5F7"
      },
      "outputs": [],
      "source": [
        "model_name = \"nlpaueb/legal-bert-base-uncased\"\n",
        "tokenizer = AutoTokenizer.from_pretrained(model_name)\n",
        "model = AutoModelForSequenceClassification.from_pretrained(\n",
        "    model_name,\n",
        "    num_labels=4,\n",
        ")\n"
      ]
    },
    {
      "cell_type": "code",
      "source": [
        "print(\"GPU Available:\", torch.cuda.is_available())\n",
        "if torch.cuda.is_available():\n",
        "    device = torch.device(\"cuda\")\n",
        "    print(\"Using GPU:\", torch.cuda.get_device_name(0))\n",
        "else:\n",
        "    device = torch.device(\"cpu\")\n",
        "    print(\"Using CPU\")\n"
      ],
      "metadata": {
        "id": "MEei0bUTws8B"
      },
      "execution_count": null,
      "outputs": []
    },
    {
      "cell_type": "code",
      "source": [
        "# Move model to GPU if available\n",
        "model = model.to(device)"
      ],
      "metadata": {
        "id": "oLDx04Blwu6S"
      },
      "execution_count": null,
      "outputs": []
    },
    {
      "cell_type": "code",
      "execution_count": null,
      "metadata": {
        "id": "NB-LUqW2r5F7"
      },
      "outputs": [],
      "source": [
        "# Define tokenization function\n",
        "\n",
        "def tokenize_function(examples):\n",
        "    # Convert the input to a list of strings and ensure it's properly formatted\n",
        "    texts = [str(text) for text in examples[\"clause_text\"]]  # Ensure text is string\n",
        "\n",
        "    return tokenizer(\n",
        "        texts,\n",
        "        padding=\"max_length\",\n",
        "        truncation=True,\n",
        "        max_length=512,\n",
        "        return_tensors=None  # Important: keep this as None for batched processing\n",
        "    )\n"
      ]
    },
    {
      "cell_type": "code",
      "execution_count": null,
      "metadata": {
        "id": "W6NwXI10r5F8"
      },
      "outputs": [],
      "source": [
        "def prepare_dataset(df):\n",
        "    return Dataset.from_pandas(df)\n",
        "\n",
        "train_raw_data = prepare_dataset(train_df)\n",
        "test_raw_data = prepare_dataset(test_df)"
      ]
    },
    {
      "cell_type": "code",
      "execution_count": null,
      "metadata": {
        "id": "kubFsR_sr5F8"
      },
      "outputs": [],
      "source": [
        "print(train_raw_data)\n",
        "\n",
        "print(\"Dataset features:\", train_raw_data.features)\n",
        "print(\"Sample row:\", train_raw_data[0])\n",
        "\n",
        "\n",
        "train_dataset = train_raw_data.map(tokenize_function, batched=True)\n",
        "test_dataset = test_raw_data.map(tokenize_function, batched=True)\n",
        "\n",
        "columns_to_remove = ['service', 'clause_text', 'description']\n",
        "train_dataset = train_dataset.remove_columns(columns_to_remove)\n",
        "test_dataset = test_dataset.remove_columns(columns_to_remove)\n",
        "train_dataset = train_dataset.rename_column('rating', 'labels')\n",
        "test_dataset = test_dataset.rename_column('rating', 'labels')\n",
        "\n",
        "train_dataset.set_format('torch', columns=['input_ids', 'attention_mask', 'labels'])\n",
        "test_dataset.set_format('torch', columns=['input_ids', 'attention_mask', 'labels'])\n"
      ]
    },
    {
      "cell_type": "code",
      "execution_count": null,
      "metadata": {
        "id": "QwNmR8bar5F8"
      },
      "outputs": [],
      "source": [
        "# Define metrics for evaluation\n",
        "def compute_metrics(eval_pred):\n",
        "    predictions, labels = eval_pred\n",
        "    predictions = predictions.squeeze()\n",
        "    mse = ((predictions - labels) ** 2).mean()\n",
        "    rmse = np.sqrt(mse)\n",
        "    return {\n",
        "        \"mse\": mse,\n",
        "        \"rmse\": rmse\n",
        "    }\n",
        "\n",
        "#BertForSequenceClassification"
      ]
    },
    {
      "cell_type": "code",
      "execution_count": null,
      "metadata": {
        "id": "EQB6RB0nr5F8"
      },
      "outputs": [],
      "source": [
        "# Define training arguments\n",
        "training_args = TrainingArguments(\n",
        "    output_dir=\"./results\",\n",
        "    learning_rate=2e-5,\n",
        "    per_device_train_batch_size=8,\n",
        "    per_device_eval_batch_size=8,\n",
        "    num_train_epochs=3,\n",
        "    weight_decay=0.01,\n",
        "    evaluation_strategy=\"epoch\",\n",
        "    save_strategy=\"epoch\",\n",
        "    load_best_model_at_end=True,\n",
        "    push_to_hub=False,\n",
        "    no_cuda=False,  # Enable GPU\n",
        "    fp16=True,\n",
        ")"
      ]
    },
    {
      "cell_type": "code",
      "source": [
        "# To track the training\n",
        "!pip install weave\n",
        "!wandb login\n"
      ],
      "metadata": {
        "id": "IX1OkpM90eXA"
      },
      "execution_count": null,
      "outputs": []
    },
    {
      "cell_type": "code",
      "execution_count": null,
      "metadata": {
        "id": "bLfW-vVjr5F8"
      },
      "outputs": [],
      "source": [
        "# Initialize trainer\n",
        "trainer = Trainer(\n",
        "    model=model,\n",
        "    args=training_args,\n",
        "    train_dataset=train_dataset,\n",
        "    eval_dataset=test_dataset,\n",
        "    compute_metrics=compute_metrics,\n",
        "    # run_name=\"ray-legal-bert-regression\",\n",
        ")"
      ]
    },
    {
      "cell_type": "code",
      "execution_count": null,
      "metadata": {
        "id": "-5bPcLrVr5F8"
      },
      "outputs": [],
      "source": [
        "print(train_dataset)"
      ]
    },
    {
      "cell_type": "code",
      "execution_count": null,
      "metadata": {
        "colab": {
          "base_uri": "https://localhost:8080/",
          "height": 95
        },
        "id": "nY5D9e-or5F8",
        "outputId": "b08cd658-9991-455b-abaa-701d9030f626"
      },
      "outputs": [
        {
          "output_type": "display_data",
          "data": {
            "text/plain": [
              "<IPython.core.display.HTML object>"
            ],
            "text/html": [
              "\n",
              "    <div>\n",
              "      \n",
              "      <progress value='981' max='2940' style='width:300px; height:20px; vertical-align: middle;'></progress>\n",
              "      [ 981/2940 03:46 < 07:32, 4.33 it/s, Epoch 1/3]\n",
              "    </div>\n",
              "    <table border=\"1\" class=\"dataframe\">\n",
              "  <thead>\n",
              " <tr style=\"text-align: left;\">\n",
              "      <th>Epoch</th>\n",
              "      <th>Training Loss</th>\n",
              "      <th>Validation Loss</th>\n",
              "    </tr>\n",
              "  </thead>\n",
              "  <tbody>\n",
              "  </tbody>\n",
              "</table><p>\n",
              "    <div>\n",
              "      \n",
              "      <progress value='153' max='245' style='width:300px; height:20px; vertical-align: middle;'></progress>\n",
              "      [153/245 00:09 < 00:05, 16.43 it/s]\n",
              "    </div>\n",
              "    "
            ]
          },
          "metadata": {}
        }
      ],
      "source": [
        "# Start training\n",
        "trainer.train()"
      ]
    },
    {
      "cell_type": "code",
      "execution_count": null,
      "metadata": {
        "id": "KhH9nF9mr5F9"
      },
      "outputs": [],
      "source": [
        "# Evaluate the model on test set\n",
        "test_results = trainer.evaluate()\n",
        "print(\"\\nTest Results:\")\n",
        "print(test_results)\n",
        "\n",
        "# Function to predict ratings for new clauses\n",
        "def predict_rating(clause_text):\n",
        "\n",
        "    inputs = tokenizer(\n",
        "        clause_text,\n",
        "        padding=\"max_length\",\n",
        "        truncation=True,\n",
        "        max_length=512,\n",
        "        return_tensors=\"pt\"\n",
        "    )\n",
        "\n",
        "    inputs = {key: value.to(device) for key, value in inputs.items()}\n",
        "\n",
        "\n",
        "    with torch.no_grad():\n",
        "        outputs = model(**inputs)\n",
        "        predictions = outputs.logits.squeeze()\n",
        "\n",
        "    return predictions.item()\n",
        "\n",
        "# Test prediction with a sample clause\n",
        "sample_clause = test_df['clause_text'].iloc[0]\n",
        "predicted_rating = predict_rating(sample_clause)\n",
        "actual_rating = test_df['rating'].iloc[0]\n",
        "\n",
        "print(\"\\nSample Prediction:\")\n",
        "print(f\"Predicted Rating: {predicted_rating:.2f}\")\n",
        "print(f\"Actual Rating: {actual_rating}\")"
      ]
    },
    {
      "cell_type": "code",
      "execution_count": null,
      "metadata": {
        "id": "Nd7_Xqe0r5F9"
      },
      "outputs": [],
      "source": [
        "# Split the filtered data\n",
        "clauses, ratings = zip(*filtered_clause_pairs)  # Extract clauses and their ratings\n",
        "\n",
        "# Map ratings to integers\n",
        "rating_dict = {\"very bad\": 0, \"bad\": 1, \"neutral\": 2, \"good\": 3}  # Modify if you have different ratings\n",
        "ratings_int = [rating_dict[r] for r in ratings]\n",
        "\n",
        "# Step 3.2: Split data into train, dev, and test sets (80% train, 10% dev, 10% test)\n",
        "X_train, X_temp, y_train, y_temp = train_test_split(clauses, ratings_int, test_size=0.2, random_state=42)\n",
        "X_dev, X_test, y_dev, y_test = train_test_split(X_temp, y_temp, test_size=0.5, random_state=42)\n",
        "\n",
        "# Step 3.3: Convert into a format that Hugging Face can use\n",
        "train_data = Dataset.from_dict({\"text\": X_train, \"label\": y_train})\n",
        "dev_data = Dataset.from_dict({\"text\": X_dev, \"label\": y_dev})\n",
        "test_data = Dataset.from_dict({\"text\": X_test, \"label\": y_test})\n"
      ]
    },
    {
      "cell_type": "code",
      "execution_count": null,
      "metadata": {
        "id": "iraOoPdur5F9"
      },
      "outputs": [],
      "source": [
        "# Step 4.1: Load the BERT tokenizer\n",
        "tokenizer = BertTokenizer.from_pretrained(\"bert-base-uncased\")\n",
        "\n",
        "# Step 4.2: Define a function to tokenize the input texts\n",
        "def tokenize_function(examples):\n",
        "    return tokenizer(examples.get('text', \"\"), padding='max_length', truncation=True, max_length=512)\n",
        "\n",
        "# Step 4.3: Apply the tokenizer to the train, dev, and test datasets\n",
        "train_data = train_data.map(tokenize_function, batched=True)\n",
        "dev_data = dev_data.map(tokenize_function, batched=True)\n",
        "test_data = test_data.map(tokenize_function, batched=True)\n",
        "\n",
        "# Step 4.4: Set the format for PyTorch\n",
        "train_data.set_format(type='torch', columns=['input_ids', 'attention_mask', 'token_type_ids', 'label'])\n",
        "dev_data.set_format(type='torch', columns=['input_ids', 'attention_mask', 'token_type_ids', 'label'])\n",
        "test_data.set_format(type='torch', columns=['input_ids', 'attention_mask', 'token_type_ids', 'label'])\n",
        "\n",
        "# Step 4.5: Remove the original text filed\n",
        "train_data = train_data.map(tokenize_function, batched=True, remove_columns=[\"text\"])\n",
        "dev_data = dev_data.map(tokenize_function, batched=True, remove_columns=[\"text\"])\n",
        "test_data = test_data.map(tokenize_function, batched=True, remove_columns=[\"text\"])\n",
        "\n",
        "# Step 4.6: Make sure we are working with longs\n",
        "train_data = train_data.map(lambda x: {\"label\": torch.tensor(x[\"label\"]).long()})\n",
        "dev_data = dev_data.map(lambda x: {\"label\": torch.tensor(x[\"label\"]).long()})\n",
        "test_data = test_data.map(lambda x: {\"label\": torch.tensor(x[\"label\"]).long()})"
      ]
    },
    {
      "cell_type": "code",
      "execution_count": null,
      "metadata": {
        "id": "5d56ikctr5F9"
      },
      "outputs": [],
      "source": [
        "# Step 5.1: Take a smaller sample (e.g., 5%) of the training data\n",
        "train_sample = train_data.shuffle(seed=42).select(range(int(0.1 * len(train_data))))\n",
        "dev_sample = dev_data.shuffle(seed=42).select(range(int(0.2 * len(dev_data))))"
      ]
    },
    {
      "cell_type": "code",
      "execution_count": null,
      "metadata": {
        "id": "efzw_lqYr5F9"
      },
      "outputs": [],
      "source": [
        "training_args = TrainingArguments(\n",
        "    output_dir='./results',\n",
        "    eval_strategy=\"epoch\",  # Update to eval_strategy\n",
        "    save_strategy=\"epoch\",  # Save model at each epoch\n",
        "    save_total_limit=2,  # Keep last 2 checkpoints\n",
        "    learning_rate=5e-5,\n",
        "    per_device_train_batch_size=2,\n",
        "    per_device_eval_batch_size=2,\n",
        "    num_train_epochs=10,\n",
        "    weight_decay=0.01,\n",
        "    logging_dir='./logs',\n",
        "    logging_steps=10,\n",
        ")"
      ]
    },
    {
      "cell_type": "code",
      "execution_count": null,
      "metadata": {
        "id": "0_K56YEDr5F9"
      },
      "outputs": [],
      "source": [
        "def compute_metrics(eval_pred):\n",
        "    logits, labels = eval_pred\n",
        "    preds = np.argmax(logits, axis=1)  # Convert logits to predicted labels\n",
        "    return {\"accuracy\": accuracy_score(labels, preds)}"
      ]
    },
    {
      "cell_type": "code",
      "execution_count": null,
      "metadata": {
        "id": "Ur5Rlqqyr5F9"
      },
      "outputs": [],
      "source": [
        "model = BertForSequenceClassification.from_pretrained(\"bert-base-uncased\", num_labels=4)"
      ]
    },
    {
      "cell_type": "code",
      "execution_count": null,
      "metadata": {
        "id": "81K-XNpNr5F-"
      },
      "outputs": [],
      "source": [
        "trainer = Trainer(\n",
        "    model=model,\n",
        "    args=training_args,\n",
        "    train_dataset=train_sample,\n",
        "    eval_dataset=dev_sample,\n",
        "    compute_metrics=compute_metrics  # Corrected function\n",
        ")\n",
        "\n",
        "# Train the model\n",
        "trainer.train()"
      ]
    },
    {
      "cell_type": "code",
      "execution_count": null,
      "metadata": {
        "id": "p29sfxOqr5F-"
      },
      "outputs": [],
      "source": [
        "# Evaluate on the test set\n",
        "test_results = trainer.evaluate(test_data)\n",
        "\n",
        "# Print loss and accuracy\n",
        "print(f\"Test Loss: {test_results['eval_loss']:.4f}\")\n",
        "print(f\"Test Accuracy: {test_results['eval_accuracy']:.4f}\")  # Accuracy from compute_metrics"
      ]
    }
  ],
  "metadata": {
    "kernelspec": {
      "display_name": "Python 3",
      "name": "python3"
    },
    "language_info": {
      "codemirror_mode": {
        "name": "ipython",
        "version": 3
      },
      "file_extension": ".py",
      "mimetype": "text/x-python",
      "name": "python",
      "nbconvert_exporter": "python",
      "pygments_lexer": "ipython3",
      "version": "3.10.16"
    },
    "orig_nbformat": 4,
    "colab": {
      "provenance": [],
      "gpuType": "T4",
      "include_colab_link": true
    },
    "accelerator": "GPU"
  },
  "nbformat": 4,
  "nbformat_minor": 0
}